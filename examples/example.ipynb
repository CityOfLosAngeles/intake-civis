{
 "cells": [
  {
   "cell_type": "markdown",
   "metadata": {},
   "source": [
    "# Intake Civis Driver\n",
    "\n",
    "This project is an intake plugin for Civis databases.\n",
    "It allows easy ingest of tables from the Civis platform,\n",
    "and integration with other intake YAML catalogs."
   ]
  },
  {
   "cell_type": "markdown",
   "metadata": {},
   "source": [
    "## Direct invocation\n",
    "\n",
    "You can use this driver directly by creating civis catalogs and sources:"
   ]
  },
  {
   "cell_type": "code",
   "execution_count": 1,
   "metadata": {},
   "outputs": [],
   "source": [
    "import intake_civis\n",
    "\n",
    "cat = intake_civis.CivisCatalog(\n",
    "    \"City of Los Angeles - Postgres\",\n",
    "    schema=\"transportation\",\n",
    ")"
   ]
  },
  {
   "cell_type": "code",
   "execution_count": 2,
   "metadata": {},
   "outputs": [
    {
     "data": {
      "text/plain": [
       "['bike_trips']"
      ]
     },
     "execution_count": 2,
     "metadata": {},
     "output_type": "execute_result"
    }
   ],
   "source": [
    "list(cat)"
   ]
  },
  {
   "cell_type": "code",
   "execution_count": 3,
   "metadata": {},
   "outputs": [
    {
     "data": {
      "application/json": {
       "args": {
        "api_key": null,
        "civis_kwargs": {},
        "database": "City of Los Angeles - Postgres",
        "table": "\"transportation\".\"bike_trips\""
       },
       "container": "dataframe",
       "description": "Civis table bike_trips from City of Los Angeles - Postgres",
       "direct_access": true,
       "metadata": {},
       "name": "\"transportation\".\"bike_trips\"",
       "plugin": [
        "civis"
       ],
       "user_parameters": []
      },
      "text/plain": [
       "name: \"transportation\".\"bike_trips\"\n",
       "container: dataframe\n",
       "plugin: ['civis']\n",
       "description: Civis table bike_trips from City of Los Angeles - Postgres\n",
       "direct_access: True\n",
       "user_parameters: []\n",
       "metadata: \n",
       "args: \n",
       "  api_key: None\n",
       "  civis_kwargs: \n",
       "  database: City of Los Angeles - Postgres\n",
       "  table: \"transportation\".\"bike_trips\""
      ]
     },
     "metadata": {
      "application/json": {
       "root": "\"transportation\".\"bike_trips\""
      }
     },
     "output_type": "display_data"
    }
   ],
   "source": [
    "cat.bike_trips"
   ]
  },
  {
   "cell_type": "code",
   "execution_count": 4,
   "metadata": {},
   "outputs": [
    {
     "data": {
      "text/html": [
       "<div>\n",
       "<style scoped>\n",
       "    .dataframe tbody tr th:only-of-type {\n",
       "        vertical-align: middle;\n",
       "    }\n",
       "\n",
       "    .dataframe tbody tr th {\n",
       "        vertical-align: top;\n",
       "    }\n",
       "\n",
       "    .dataframe thead th {\n",
       "        text-align: right;\n",
       "    }\n",
       "</style>\n",
       "<table border=\"1\" class=\"dataframe\">\n",
       "  <thead>\n",
       "    <tr style=\"text-align: right;\">\n",
       "      <th></th>\n",
       "      <th>trip_id</th>\n",
       "      <th>bike_type</th>\n",
       "      <th>end_datetime</th>\n",
       "      <th>end_station</th>\n",
       "      <th>end_station_name</th>\n",
       "      <th>name_group</th>\n",
       "      <th>optional_kiosk_id_group</th>\n",
       "      <th>start_datetime</th>\n",
       "      <th>start_station</th>\n",
       "      <th>start_station_name</th>\n",
       "      <th>visible_id</th>\n",
       "      <th>distance</th>\n",
       "      <th>duration</th>\n",
       "      <th>est_calories</th>\n",
       "      <th>est_carbon_offset</th>\n",
       "    </tr>\n",
       "  </thead>\n",
       "  <tbody>\n",
       "    <tr>\n",
       "      <th>0</th>\n",
       "      <td>139402893</td>\n",
       "      <td>Electric Bike</td>\n",
       "      <td>2020-03-16 00:31:07</td>\n",
       "      <td>3064</td>\n",
       "      <td>Grand &amp; 7th</td>\n",
       "      <td>Annual Pass</td>\n",
       "      <td>DTLA</td>\n",
       "      <td>2020-03-16 00:28:22</td>\n",
       "      <td>3051</td>\n",
       "      <td>7th &amp; Broadway</td>\n",
       "      <td>19005</td>\n",
       "      <td>0.4</td>\n",
       "      <td>3</td>\n",
       "      <td>18</td>\n",
       "      <td>3.158</td>\n",
       "    </tr>\n",
       "    <tr>\n",
       "      <th>1</th>\n",
       "      <td>139403093</td>\n",
       "      <td>Electric Bike</td>\n",
       "      <td>2020-03-16 00:43:26</td>\n",
       "      <td>3040</td>\n",
       "      <td>Wilshire &amp; Witmer</td>\n",
       "      <td>Annual Pass</td>\n",
       "      <td>DTLA</td>\n",
       "      <td>2020-03-16 00:33:01</td>\n",
       "      <td>3064</td>\n",
       "      <td>Grand &amp; 7th</td>\n",
       "      <td>19779</td>\n",
       "      <td>1.5</td>\n",
       "      <td>10</td>\n",
       "      <td>60</td>\n",
       "      <td>10.526</td>\n",
       "    </tr>\n",
       "    <tr>\n",
       "      <th>2</th>\n",
       "      <td>139403793</td>\n",
       "      <td>Electric Bike</td>\n",
       "      <td>2020-03-16 01:11:54</td>\n",
       "      <td>3049</td>\n",
       "      <td>2nd &amp; Figueroa</td>\n",
       "      <td>1-Ride</td>\n",
       "      <td>DTLA</td>\n",
       "      <td>2020-03-16 01:06:03</td>\n",
       "      <td>3005</td>\n",
       "      <td>7th &amp; Flower</td>\n",
       "      <td>16342</td>\n",
       "      <td>0.8</td>\n",
       "      <td>5</td>\n",
       "      <td>30</td>\n",
       "      <td>5.263</td>\n",
       "    </tr>\n",
       "    <tr>\n",
       "      <th>3</th>\n",
       "      <td>139403794</td>\n",
       "      <td>Electric Bike</td>\n",
       "      <td>2020-03-16 01:12:48</td>\n",
       "      <td>4300</td>\n",
       "      <td>Union &amp; Olympic</td>\n",
       "      <td>Monthly Pass</td>\n",
       "      <td>DTLA</td>\n",
       "      <td>2020-03-16 00:56:32</td>\n",
       "      <td>3006</td>\n",
       "      <td>Olive &amp; 8th</td>\n",
       "      <td>18926</td>\n",
       "      <td>2.4</td>\n",
       "      <td>16</td>\n",
       "      <td>96</td>\n",
       "      <td>16.842</td>\n",
       "    </tr>\n",
       "    <tr>\n",
       "      <th>4</th>\n",
       "      <td>139405393</td>\n",
       "      <td>Electric Bike</td>\n",
       "      <td>2020-03-16 02:26:24</td>\n",
       "      <td>3026</td>\n",
       "      <td>Figueroa &amp; Cesar Chavez</td>\n",
       "      <td>Annual Pass</td>\n",
       "      <td>DTLA</td>\n",
       "      <td>2020-03-16 02:12:12</td>\n",
       "      <td>4491</td>\n",
       "      <td>Main &amp; Winston</td>\n",
       "      <td>18984</td>\n",
       "      <td>2.1</td>\n",
       "      <td>14</td>\n",
       "      <td>84</td>\n",
       "      <td>14.737</td>\n",
       "    </tr>\n",
       "  </tbody>\n",
       "</table>\n",
       "</div>"
      ],
      "text/plain": [
       "     trip_id      bike_type         end_datetime  end_station  \\\n",
       "0  139402893  Electric Bike  2020-03-16 00:31:07         3064   \n",
       "1  139403093  Electric Bike  2020-03-16 00:43:26         3040   \n",
       "2  139403793  Electric Bike  2020-03-16 01:11:54         3049   \n",
       "3  139403794  Electric Bike  2020-03-16 01:12:48         4300   \n",
       "4  139405393  Electric Bike  2020-03-16 02:26:24         3026   \n",
       "\n",
       "          end_station_name    name_group optional_kiosk_id_group  \\\n",
       "0              Grand & 7th   Annual Pass                    DTLA   \n",
       "1        Wilshire & Witmer   Annual Pass                    DTLA   \n",
       "2           2nd & Figueroa        1-Ride                    DTLA   \n",
       "3          Union & Olympic  Monthly Pass                    DTLA   \n",
       "4  Figueroa & Cesar Chavez   Annual Pass                    DTLA   \n",
       "\n",
       "        start_datetime  start_station start_station_name visible_id  distance  \\\n",
       "0  2020-03-16 00:28:22           3051     7th & Broadway      19005       0.4   \n",
       "1  2020-03-16 00:33:01           3064        Grand & 7th      19779       1.5   \n",
       "2  2020-03-16 01:06:03           3005       7th & Flower      16342       0.8   \n",
       "3  2020-03-16 00:56:32           3006        Olive & 8th      18926       2.4   \n",
       "4  2020-03-16 02:12:12           4491     Main & Winston      18984       2.1   \n",
       "\n",
       "   duration  est_calories  est_carbon_offset  \n",
       "0         3            18              3.158  \n",
       "1        10            60             10.526  \n",
       "2         5            30              5.263  \n",
       "3        16            96             16.842  \n",
       "4        14            84             14.737  "
      ]
     },
     "execution_count": 4,
     "metadata": {},
     "output_type": "execute_result"
    }
   ],
   "source": [
    "df = cat.bike_trips.read()\n",
    "df.head()"
   ]
  },
  {
   "cell_type": "markdown",
   "metadata": {},
   "source": [
    "## Usage with a catalog\n",
    "\n",
    "We can also use this driver from a standard intake YAML catalog:"
   ]
  },
  {
   "cell_type": "code",
   "execution_count": 5,
   "metadata": {},
   "outputs": [],
   "source": [
    "import intake\n",
    "cat = intake.open_catalog(\"catalog.yml\")"
   ]
  },
  {
   "cell_type": "code",
   "execution_count": null,
   "metadata": {},
   "outputs": [],
   "source": [
    "# Reading an entire schema as a subcatalog, then pulling a table from that\n",
    "df = cat.postgres.bike_trips.read()\n",
    "df.head()"
   ]
  },
  {
   "cell_type": "code",
   "execution_count": null,
   "metadata": {},
   "outputs": [],
   "source": [
    "# Reading a single table\n",
    "df = cat.bike_trips.read()\n",
    "df.head()"
   ]
  }
 ],
 "metadata": {
  "kernelspec": {
   "display_name": "Python 3",
   "language": "python",
   "name": "python3"
  },
  "language_info": {
   "codemirror_mode": {
    "name": "ipython",
    "version": 3
   },
   "file_extension": ".py",
   "mimetype": "text/x-python",
   "name": "python",
   "nbconvert_exporter": "python",
   "pygments_lexer": "ipython3",
   "version": "3.7.6"
  }
 },
 "nbformat": 4,
 "nbformat_minor": 4
}
